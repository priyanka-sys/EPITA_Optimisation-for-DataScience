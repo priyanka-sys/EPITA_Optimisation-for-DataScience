{
 "cells": [
  {
   "cell_type": "markdown",
   "metadata": {},
   "source": [
    "###                                                                       OPTIMISATION FOR DATA SCIENCE \n",
    "####                                                    PREDICTION OF WOMEN'S BEST SELLING CLOTHES BASED ON E-COMMERCE REVIEWS\n",
    "\n",
    "\n",
    "\n",
    "\n",
    "\n",
    "#### Priyanka Kumar | MSc in Data Science & Analytics (EPITA - 2020)"
   ]
  },
  {
   "cell_type": "code",
   "execution_count": 238,
   "metadata": {},
   "outputs": [],
   "source": [
    "#Load required libraries\n",
    "import numpy as np\n",
    "import pandas as pd\n",
    "import seaborn as sns\n",
    "import matplotlib.pyplot as plt\n",
    "from sklearn.ensemble import RandomForestClassifier\n",
    "from sklearn.svm import SVC\n",
    "from sklearn.linear_model import SGDClassifier\n",
    "from sklearn.metrics import confusion_matrix, classification_report\n",
    "from sklearn.preprocessing import StandardScaler, LabelEncoder\n",
    "from sklearn.model_selection import train_test_split, GridSearchCV, cross_val_score\n",
    "%matplotlib inline\n",
    "import math"
   ]
  },
  {
   "cell_type": "code",
   "execution_count": 239,
   "metadata": {},
   "outputs": [],
   "source": [
    "df = pd.read_csv('Final_datasheet.csv')"
   ]
  },
  {
   "cell_type": "code",
   "execution_count": 240,
   "metadata": {
    "scrolled": true
   },
   "outputs": [
    {
     "data": {
      "text/html": [
       "<div>\n",
       "<style scoped>\n",
       "    .dataframe tbody tr th:only-of-type {\n",
       "        vertical-align: middle;\n",
       "    }\n",
       "\n",
       "    .dataframe tbody tr th {\n",
       "        vertical-align: top;\n",
       "    }\n",
       "\n",
       "    .dataframe thead th {\n",
       "        text-align: right;\n",
       "    }\n",
       "</style>\n",
       "<table border=\"1\" class=\"dataframe\">\n",
       "  <thead>\n",
       "    <tr style=\"text-align: right;\">\n",
       "      <th></th>\n",
       "      <th>Unnamed: 0</th>\n",
       "      <th>Clothing ID</th>\n",
       "      <th>Age</th>\n",
       "      <th>Title</th>\n",
       "      <th>Review Text</th>\n",
       "      <th>Rating</th>\n",
       "      <th>Recommended IND</th>\n",
       "      <th>Positive Feedback Count</th>\n",
       "      <th>Division Name</th>\n",
       "      <th>Department Name</th>\n",
       "      <th>Class Name</th>\n",
       "    </tr>\n",
       "  </thead>\n",
       "  <tbody>\n",
       "    <tr>\n",
       "      <td>0</td>\n",
       "      <td>0</td>\n",
       "      <td>767</td>\n",
       "      <td>33</td>\n",
       "      <td>NaN</td>\n",
       "      <td>Absolutely wonderful - silky and sexy and comf...</td>\n",
       "      <td>4</td>\n",
       "      <td>1</td>\n",
       "      <td>0</td>\n",
       "      <td>Initmates</td>\n",
       "      <td>Intimate</td>\n",
       "      <td>Intimates</td>\n",
       "    </tr>\n",
       "    <tr>\n",
       "      <td>1</td>\n",
       "      <td>1</td>\n",
       "      <td>1080</td>\n",
       "      <td>34</td>\n",
       "      <td>NaN</td>\n",
       "      <td>Love this dress!  it's sooo pretty.  i happene...</td>\n",
       "      <td>5</td>\n",
       "      <td>1</td>\n",
       "      <td>4</td>\n",
       "      <td>General</td>\n",
       "      <td>Dresses</td>\n",
       "      <td>Dresses</td>\n",
       "    </tr>\n",
       "    <tr>\n",
       "      <td>2</td>\n",
       "      <td>2</td>\n",
       "      <td>1077</td>\n",
       "      <td>60</td>\n",
       "      <td>Some major design flaws</td>\n",
       "      <td>I had such high hopes for this dress and reall...</td>\n",
       "      <td>3</td>\n",
       "      <td>0</td>\n",
       "      <td>0</td>\n",
       "      <td>General</td>\n",
       "      <td>Dresses</td>\n",
       "      <td>Dresses</td>\n",
       "    </tr>\n",
       "    <tr>\n",
       "      <td>3</td>\n",
       "      <td>3</td>\n",
       "      <td>1049</td>\n",
       "      <td>50</td>\n",
       "      <td>My favorite buy!</td>\n",
       "      <td>I love, love, love this jumpsuit. it's fun, fl...</td>\n",
       "      <td>5</td>\n",
       "      <td>1</td>\n",
       "      <td>0</td>\n",
       "      <td>General Petite</td>\n",
       "      <td>Bottoms</td>\n",
       "      <td>Pants</td>\n",
       "    </tr>\n",
       "    <tr>\n",
       "      <td>4</td>\n",
       "      <td>4</td>\n",
       "      <td>847</td>\n",
       "      <td>47</td>\n",
       "      <td>Flattering shirt</td>\n",
       "      <td>This shirt is very flattering to all due to th...</td>\n",
       "      <td>5</td>\n",
       "      <td>1</td>\n",
       "      <td>6</td>\n",
       "      <td>General</td>\n",
       "      <td>Tops</td>\n",
       "      <td>Blouses</td>\n",
       "    </tr>\n",
       "    <tr>\n",
       "      <td>5</td>\n",
       "      <td>5</td>\n",
       "      <td>1080</td>\n",
       "      <td>49</td>\n",
       "      <td>Not for the very petite</td>\n",
       "      <td>I love tracy reese dresses, but this one is no...</td>\n",
       "      <td>2</td>\n",
       "      <td>0</td>\n",
       "      <td>4</td>\n",
       "      <td>General</td>\n",
       "      <td>Dresses</td>\n",
       "      <td>Dresses</td>\n",
       "    </tr>\n",
       "    <tr>\n",
       "      <td>6</td>\n",
       "      <td>6</td>\n",
       "      <td>858</td>\n",
       "      <td>39</td>\n",
       "      <td>Cagrcoal shimmer fun</td>\n",
       "      <td>I aded this in my basket at hte last mintue to...</td>\n",
       "      <td>5</td>\n",
       "      <td>1</td>\n",
       "      <td>1</td>\n",
       "      <td>General Petite</td>\n",
       "      <td>Tops</td>\n",
       "      <td>Knits</td>\n",
       "    </tr>\n",
       "    <tr>\n",
       "      <td>7</td>\n",
       "      <td>7</td>\n",
       "      <td>858</td>\n",
       "      <td>39</td>\n",
       "      <td>Shimmer, surprisingly goes with lots</td>\n",
       "      <td>I ordered this in carbon for store pick up, an...</td>\n",
       "      <td>4</td>\n",
       "      <td>1</td>\n",
       "      <td>4</td>\n",
       "      <td>General Petite</td>\n",
       "      <td>Tops</td>\n",
       "      <td>Knits</td>\n",
       "    </tr>\n",
       "    <tr>\n",
       "      <td>8</td>\n",
       "      <td>8</td>\n",
       "      <td>1077</td>\n",
       "      <td>24</td>\n",
       "      <td>Flattering</td>\n",
       "      <td>I love this dress. i usually get an xs but it ...</td>\n",
       "      <td>5</td>\n",
       "      <td>1</td>\n",
       "      <td>0</td>\n",
       "      <td>General</td>\n",
       "      <td>Dresses</td>\n",
       "      <td>Dresses</td>\n",
       "    </tr>\n",
       "    <tr>\n",
       "      <td>9</td>\n",
       "      <td>9</td>\n",
       "      <td>1077</td>\n",
       "      <td>34</td>\n",
       "      <td>Such a fun dress!</td>\n",
       "      <td>I'm 5\"5' and 125 lbs. i ordered the s petite t...</td>\n",
       "      <td>5</td>\n",
       "      <td>1</td>\n",
       "      <td>0</td>\n",
       "      <td>General</td>\n",
       "      <td>Dresses</td>\n",
       "      <td>Dresses</td>\n",
       "    </tr>\n",
       "  </tbody>\n",
       "</table>\n",
       "</div>"
      ],
      "text/plain": [
       "   Unnamed: 0  Clothing ID  Age                                 Title  \\\n",
       "0           0          767   33                                   NaN   \n",
       "1           1         1080   34                                   NaN   \n",
       "2           2         1077   60               Some major design flaws   \n",
       "3           3         1049   50                      My favorite buy!   \n",
       "4           4          847   47                      Flattering shirt   \n",
       "5           5         1080   49               Not for the very petite   \n",
       "6           6          858   39                  Cagrcoal shimmer fun   \n",
       "7           7          858   39  Shimmer, surprisingly goes with lots   \n",
       "8           8         1077   24                            Flattering   \n",
       "9           9         1077   34                     Such a fun dress!   \n",
       "\n",
       "                                         Review Text  Rating  Recommended IND  \\\n",
       "0  Absolutely wonderful - silky and sexy and comf...       4                1   \n",
       "1  Love this dress!  it's sooo pretty.  i happene...       5                1   \n",
       "2  I had such high hopes for this dress and reall...       3                0   \n",
       "3  I love, love, love this jumpsuit. it's fun, fl...       5                1   \n",
       "4  This shirt is very flattering to all due to th...       5                1   \n",
       "5  I love tracy reese dresses, but this one is no...       2                0   \n",
       "6  I aded this in my basket at hte last mintue to...       5                1   \n",
       "7  I ordered this in carbon for store pick up, an...       4                1   \n",
       "8  I love this dress. i usually get an xs but it ...       5                1   \n",
       "9  I'm 5\"5' and 125 lbs. i ordered the s petite t...       5                1   \n",
       "\n",
       "   Positive Feedback Count   Division Name Department Name Class Name  \n",
       "0                        0       Initmates        Intimate  Intimates  \n",
       "1                        4         General         Dresses    Dresses  \n",
       "2                        0         General         Dresses    Dresses  \n",
       "3                        0  General Petite         Bottoms      Pants  \n",
       "4                        6         General            Tops    Blouses  \n",
       "5                        4         General         Dresses    Dresses  \n",
       "6                        1  General Petite            Tops      Knits  \n",
       "7                        4  General Petite            Tops      Knits  \n",
       "8                        0         General         Dresses    Dresses  \n",
       "9                        0         General         Dresses    Dresses  "
      ]
     },
     "execution_count": 240,
     "metadata": {},
     "output_type": "execute_result"
    }
   ],
   "source": [
    "df.head(10)"
   ]
  },
  {
   "cell_type": "code",
   "execution_count": 241,
   "metadata": {},
   "outputs": [
    {
     "data": {
      "text/html": [
       "<div>\n",
       "<style scoped>\n",
       "    .dataframe tbody tr th:only-of-type {\n",
       "        vertical-align: middle;\n",
       "    }\n",
       "\n",
       "    .dataframe tbody tr th {\n",
       "        vertical-align: top;\n",
       "    }\n",
       "\n",
       "    .dataframe thead th {\n",
       "        text-align: right;\n",
       "    }\n",
       "</style>\n",
       "<table border=\"1\" class=\"dataframe\">\n",
       "  <thead>\n",
       "    <tr style=\"text-align: right;\">\n",
       "      <th></th>\n",
       "      <th>Clothing ID</th>\n",
       "      <th>Age</th>\n",
       "      <th>Rating</th>\n",
       "      <th>Recommended IND</th>\n",
       "      <th>Positive Feedback Count</th>\n",
       "    </tr>\n",
       "  </thead>\n",
       "  <tbody>\n",
       "    <tr>\n",
       "      <td>0</td>\n",
       "      <td>767</td>\n",
       "      <td>33</td>\n",
       "      <td>4</td>\n",
       "      <td>1</td>\n",
       "      <td>0</td>\n",
       "    </tr>\n",
       "    <tr>\n",
       "      <td>1</td>\n",
       "      <td>1080</td>\n",
       "      <td>34</td>\n",
       "      <td>5</td>\n",
       "      <td>1</td>\n",
       "      <td>4</td>\n",
       "    </tr>\n",
       "    <tr>\n",
       "      <td>2</td>\n",
       "      <td>1077</td>\n",
       "      <td>60</td>\n",
       "      <td>3</td>\n",
       "      <td>0</td>\n",
       "      <td>0</td>\n",
       "    </tr>\n",
       "    <tr>\n",
       "      <td>3</td>\n",
       "      <td>1049</td>\n",
       "      <td>50</td>\n",
       "      <td>5</td>\n",
       "      <td>1</td>\n",
       "      <td>0</td>\n",
       "    </tr>\n",
       "    <tr>\n",
       "      <td>4</td>\n",
       "      <td>847</td>\n",
       "      <td>47</td>\n",
       "      <td>5</td>\n",
       "      <td>1</td>\n",
       "      <td>6</td>\n",
       "    </tr>\n",
       "    <tr>\n",
       "      <td>5</td>\n",
       "      <td>1080</td>\n",
       "      <td>49</td>\n",
       "      <td>2</td>\n",
       "      <td>0</td>\n",
       "      <td>4</td>\n",
       "    </tr>\n",
       "    <tr>\n",
       "      <td>6</td>\n",
       "      <td>858</td>\n",
       "      <td>39</td>\n",
       "      <td>5</td>\n",
       "      <td>1</td>\n",
       "      <td>1</td>\n",
       "    </tr>\n",
       "    <tr>\n",
       "      <td>7</td>\n",
       "      <td>858</td>\n",
       "      <td>39</td>\n",
       "      <td>4</td>\n",
       "      <td>1</td>\n",
       "      <td>4</td>\n",
       "    </tr>\n",
       "    <tr>\n",
       "      <td>8</td>\n",
       "      <td>1077</td>\n",
       "      <td>24</td>\n",
       "      <td>5</td>\n",
       "      <td>1</td>\n",
       "      <td>0</td>\n",
       "    </tr>\n",
       "    <tr>\n",
       "      <td>9</td>\n",
       "      <td>1077</td>\n",
       "      <td>34</td>\n",
       "      <td>5</td>\n",
       "      <td>1</td>\n",
       "      <td>0</td>\n",
       "    </tr>\n",
       "  </tbody>\n",
       "</table>\n",
       "</div>"
      ],
      "text/plain": [
       "   Clothing ID  Age  Rating  Recommended IND  Positive Feedback Count\n",
       "0          767   33       4                1                        0\n",
       "1         1080   34       5                1                        4\n",
       "2         1077   60       3                0                        0\n",
       "3         1049   50       5                1                        0\n",
       "4          847   47       5                1                        6\n",
       "5         1080   49       2                0                        4\n",
       "6          858   39       5                1                        1\n",
       "7          858   39       4                1                        4\n",
       "8         1077   24       5                1                        0\n",
       "9         1077   34       5                1                        0"
      ]
     },
     "execution_count": 241,
     "metadata": {},
     "output_type": "execute_result"
    }
   ],
   "source": [
    "X = (df[['Clothing ID','Age','Rating','Recommended IND','Positive Feedback Count']])\n",
    "X[0:10]\n"
   ]
  },
  {
   "cell_type": "code",
   "execution_count": 242,
   "metadata": {},
   "outputs": [
    {
     "data": {
      "text/plain": [
       "array([[1],\n",
       "       [1],\n",
       "       [0],\n",
       "       [1],\n",
       "       [1],\n",
       "       [0],\n",
       "       [1],\n",
       "       [1],\n",
       "       [1],\n",
       "       [1]])"
      ]
     },
     "execution_count": 242,
     "metadata": {},
     "output_type": "execute_result"
    }
   ],
   "source": [
    "Y = np.array(df[['Recommended IND']])\n",
    "Y[0:10]"
   ]
  },
  {
   "cell_type": "markdown",
   "metadata": {},
   "source": [
    "####  Encode the categorical variables"
   ]
  },
  {
   "cell_type": "code",
   "execution_count": 243,
   "metadata": {},
   "outputs": [
    {
     "data": {
      "text/html": [
       "<div>\n",
       "<style scoped>\n",
       "    .dataframe tbody tr th:only-of-type {\n",
       "        vertical-align: middle;\n",
       "    }\n",
       "\n",
       "    .dataframe tbody tr th {\n",
       "        vertical-align: top;\n",
       "    }\n",
       "\n",
       "    .dataframe thead th {\n",
       "        text-align: right;\n",
       "    }\n",
       "</style>\n",
       "<table border=\"1\" class=\"dataframe\">\n",
       "  <thead>\n",
       "    <tr style=\"text-align: right;\">\n",
       "      <th></th>\n",
       "      <th>Clothing ID</th>\n",
       "      <th>Age</th>\n",
       "      <th>Rating</th>\n",
       "      <th>Recommended IND</th>\n",
       "      <th>Positive Feedback Count</th>\n",
       "    </tr>\n",
       "  </thead>\n",
       "  <tbody>\n",
       "    <tr>\n",
       "      <td>0</td>\n",
       "      <td>767</td>\n",
       "      <td>33</td>\n",
       "      <td>4</td>\n",
       "      <td>1</td>\n",
       "      <td>0</td>\n",
       "    </tr>\n",
       "    <tr>\n",
       "      <td>1</td>\n",
       "      <td>1080</td>\n",
       "      <td>34</td>\n",
       "      <td>5</td>\n",
       "      <td>1</td>\n",
       "      <td>4</td>\n",
       "    </tr>\n",
       "    <tr>\n",
       "      <td>2</td>\n",
       "      <td>1077</td>\n",
       "      <td>60</td>\n",
       "      <td>3</td>\n",
       "      <td>0</td>\n",
       "      <td>0</td>\n",
       "    </tr>\n",
       "    <tr>\n",
       "      <td>3</td>\n",
       "      <td>1049</td>\n",
       "      <td>50</td>\n",
       "      <td>5</td>\n",
       "      <td>1</td>\n",
       "      <td>0</td>\n",
       "    </tr>\n",
       "    <tr>\n",
       "      <td>4</td>\n",
       "      <td>847</td>\n",
       "      <td>47</td>\n",
       "      <td>5</td>\n",
       "      <td>1</td>\n",
       "      <td>6</td>\n",
       "    </tr>\n",
       "    <tr>\n",
       "      <td>5</td>\n",
       "      <td>1080</td>\n",
       "      <td>49</td>\n",
       "      <td>2</td>\n",
       "      <td>0</td>\n",
       "      <td>4</td>\n",
       "    </tr>\n",
       "    <tr>\n",
       "      <td>6</td>\n",
       "      <td>858</td>\n",
       "      <td>39</td>\n",
       "      <td>5</td>\n",
       "      <td>1</td>\n",
       "      <td>1</td>\n",
       "    </tr>\n",
       "    <tr>\n",
       "      <td>7</td>\n",
       "      <td>858</td>\n",
       "      <td>39</td>\n",
       "      <td>4</td>\n",
       "      <td>1</td>\n",
       "      <td>4</td>\n",
       "    </tr>\n",
       "    <tr>\n",
       "      <td>8</td>\n",
       "      <td>1077</td>\n",
       "      <td>24</td>\n",
       "      <td>5</td>\n",
       "      <td>1</td>\n",
       "      <td>0</td>\n",
       "    </tr>\n",
       "    <tr>\n",
       "      <td>9</td>\n",
       "      <td>1077</td>\n",
       "      <td>34</td>\n",
       "      <td>5</td>\n",
       "      <td>1</td>\n",
       "      <td>0</td>\n",
       "    </tr>\n",
       "  </tbody>\n",
       "</table>\n",
       "</div>"
      ],
      "text/plain": [
       "   Clothing ID  Age  Rating  Recommended IND  Positive Feedback Count\n",
       "0          767   33       4                1                        0\n",
       "1         1080   34       5                1                        4\n",
       "2         1077   60       3                0                        0\n",
       "3         1049   50       5                1                        0\n",
       "4          847   47       5                1                        6\n",
       "5         1080   49       2                0                        4\n",
       "6          858   39       5                1                        1\n",
       "7          858   39       4                1                        4\n",
       "8         1077   24       5                1                        0\n",
       "9         1077   34       5                1                        0"
      ]
     },
     "execution_count": 243,
     "metadata": {},
     "output_type": "execute_result"
    }
   ],
   "source": [
    "cols = ['Clothing ID','Age','Rating','Recommended IND','Positive Feedback Count']\n",
    "\n",
    "X_new= df[cols]\n",
    "X_new.head(10)"
   ]
  },
  {
   "cell_type": "markdown",
   "metadata": {},
   "source": [
    "#### Normalize the dimension"
   ]
  },
  {
   "cell_type": "code",
   "execution_count": 244,
   "metadata": {},
   "outputs": [
    {
     "data": {
      "text/plain": [
       "['Clothing ID', 'Age', 'Rating', 'Recommended IND', 'Positive Feedback Count']"
      ]
     },
     "execution_count": 244,
     "metadata": {},
     "output_type": "execute_result"
    }
   ],
   "source": [
    "X_new = X_new[cols].apply( lambda rec:(rec - rec.mean())/rec.std(), axis =0)\n",
    "X_new['Recommended IND'] = df['Recommended IND']\n",
    "X_new.head(10)\n",
    "list(X_new)"
   ]
  },
  {
   "cell_type": "code",
   "execution_count": 245,
   "metadata": {},
   "outputs": [
    {
     "data": {
      "text/plain": [
       "array([[-0.74333235, -0.83053118, -0.17660023,  1.        , -0.44472934],\n",
       "       [ 0.79627203, -0.74909493,  0.72427574,  1.        ,  0.25675411],\n",
       "       [ 0.78151544,  1.36824761, -1.0774762 ,  0.        , -0.44472934],\n",
       "       [ 0.64378725,  0.5538851 ,  0.72427574,  1.        , -0.44472934],\n",
       "       [-0.34982325,  0.30957634,  0.72427574,  1.        ,  0.60749584],\n",
       "       [ 0.79627203,  0.47244884, -1.97835217,  0.        ,  0.25675411],\n",
       "       [-0.29571574, -0.34191367,  0.72427574,  1.        , -0.26935848],\n",
       "       [-0.29571574, -0.34191367, -0.17660023,  1.        ,  0.25675411],\n",
       "       [ 0.78151544, -1.56345744,  0.72427574,  1.        , -0.44472934]])"
      ]
     },
     "execution_count": 245,
     "metadata": {},
     "output_type": "execute_result"
    }
   ],
   "source": [
    "X_new = np.array(X_new)\n",
    "X_new[0:9]"
   ]
  },
  {
   "cell_type": "markdown",
   "metadata": {},
   "source": [
    "#### Randomly Initialise values of beta coefficient values"
   ]
  },
  {
   "cell_type": "code",
   "execution_count": 246,
   "metadata": {},
   "outputs": [],
   "source": [
    "import random"
   ]
  },
  {
   "cell_type": "code",
   "execution_count": 247,
   "metadata": {},
   "outputs": [],
   "source": [
    "def init_betas(dim):\n",
    "    b = random.random()\n",
    "    w = np.random.rand(dim)\n",
    "    return b,w "
   ]
  },
  {
   "cell_type": "code",
   "execution_count": 248,
   "metadata": {},
   "outputs": [
    {
     "name": "stdout",
     "output_type": "stream",
     "text": [
      "0.11584026639091238 [0.67450643 0.88513504 0.46645355 0.20607013 0.02588022]\n"
     ]
    }
   ],
   "source": [
    "b,w = init_betas(X_new.shape[1])\n",
    "print(b,w)"
   ]
  },
  {
   "cell_type": "markdown",
   "metadata": {},
   "source": [
    "#### Define a sigmoid function to predict Y"
   ]
  },
  {
   "cell_type": "code",
   "execution_count": 249,
   "metadata": {},
   "outputs": [],
   "source": [
    "def sigmoid(b, w ,X_new):\n",
    "    Z = b + np.matmul(X_new,w)\n",
    "    return (1.0 / (1 + np.exp(-Z)))  "
   ]
  },
  {
   "cell_type": "code",
   "execution_count": 250,
   "metadata": {},
   "outputs": [
    {
     "data": {
      "text/plain": [
       "array([0.2672755 , 0.63191399, 0.79248321, 0.82817435, 0.67118121])"
      ]
     },
     "execution_count": 250,
     "metadata": {},
     "output_type": "execute_result"
    }
   ],
   "source": [
    "y_det = sigmoid(b,w,X_new)\n",
    "y_det[0:5]"
   ]
  },
  {
   "cell_type": "markdown",
   "metadata": {},
   "source": [
    "#### Define a function for calculating binary cross entropy loss function"
   ]
  },
  {
   "cell_type": "code",
   "execution_count": 251,
   "metadata": {},
   "outputs": [],
   "source": [
    "def cost_fn( y, y_det):\n",
    "        return - np.sum(np.dot(y.T,np.log(1-y_det)+ np.dot((1-y).T,np.log(1-y_det)))) / ( len(y))"
   ]
  },
  {
   "cell_type": "code",
   "execution_count": 252,
   "metadata": {},
   "outputs": [
    {
     "data": {
      "text/plain": [
       "(23486,)"
      ]
     },
     "execution_count": 252,
     "metadata": {},
     "output_type": "execute_result"
    }
   ],
   "source": [
    "# Reshape the Y\n",
    "Y=Y.reshape(len(Y), )\n",
    "current_cost= cost_fn(Y,y_det)\n",
    "Y.shape"
   ]
  },
  {
   "cell_type": "markdown",
   "metadata": {},
   "source": [
    "#### Define a function for updating beta values.\n"
   ]
  },
  {
   "cell_type": "code",
   "execution_count": 253,
   "metadata": {},
   "outputs": [],
   "source": [
    "def beta_update (b0, w0 , y , y_det, X_new, alpha):\n",
    "    db = np.sum( y_det - y)/ len(y)\n",
    "    b0 = b0 - alpha * db\n",
    "    dw = np.dot((y_det - y), X_new)/ len(y)\n",
    "    w0 = w0 - alpha * dw\n",
    "   \n",
    "   \n",
    "    return b0,w0\n",
    "    "
   ]
  },
  {
   "cell_type": "code",
   "execution_count": 254,
   "metadata": {},
   "outputs": [
    {
     "data": {
      "text/plain": [
       "numpy.ndarray"
      ]
     },
     "execution_count": 254,
     "metadata": {},
     "output_type": "execute_result"
    }
   ],
   "source": [
    "alpha = 0.1\n",
    "type(y_det)"
   ]
  },
  {
   "cell_type": "code",
   "execution_count": 255,
   "metadata": {},
   "outputs": [
    {
     "data": {
      "text/plain": [
       "array([0.66163063, 0.86922555, 0.48614308, 0.23884933, 0.02214759])"
      ]
     },
     "execution_count": 255,
     "metadata": {},
     "output_type": "execute_result"
    }
   ],
   "source": [
    "b,w = beta_update (b,w, Y, y_det,X_new, alpha)\n",
    "w"
   ]
  },
  {
   "cell_type": "markdown",
   "metadata": {},
   "source": [
    "### Code for Gradient Descent Iterations"
   ]
  },
  {
   "cell_type": "code",
   "execution_count": 256,
   "metadata": {},
   "outputs": [
    {
     "name": "stdout",
     "output_type": "stream",
     "text": [
      "initial guess of b and w:  0.49311490559299564 [0.84528763 0.54804433 0.1332512  0.08358989 0.23740978]\n",
      "Iteration:  0 Cost:  3301.202916524432\n",
      "Iteration:  10 Cost:  1643.90103811958\n",
      "Iteration:  20 Cost:  1228.1884945490647\n",
      "Iteration:  30 Cost:  1037.048301480763\n",
      "Iteration:  40 Cost:  921.8328801028763\n",
      "Iteration:  50 Cost:  842.1274410144472\n",
      "Iteration:  60 Cost:  782.2551699830028\n",
      "Iteration:  70 Cost:  734.7779861491915\n",
      "Iteration:  80 Cost:  695.6731280107131\n",
      "Iteration:  90 Cost:  662.5541660783279\n",
      "Iteration:  100 Cost:  633.904264381844\n",
      "Iteration:  110 Cost:  608.7063101913355\n",
      "Iteration:  120 Cost:  586.248518821882\n",
      "Iteration:  130 Cost:  566.0151103441927\n",
      "Iteration:  140 Cost:  547.6213583417727\n",
      "Iteration:  150 Cost:  530.7732039297078\n",
      "Iteration:  160 Cost:  515.2411616032308\n",
      "Iteration:  170 Cost:  500.8428967954545\n",
      "Iteration:  180 Cost:  487.43125836122795\n",
      "Iteration:  190 Cost:  474.8858516714754\n",
      "Iteration:  200 Cost:  463.10697380032536\n",
      "Iteration:  210 Cost:  452.01116330584125\n",
      "Iteration:  220 Cost:  441.5278777851149\n",
      "Iteration:  230 Cost:  431.5969745822027\n",
      "Iteration:  240 Cost:  422.1667735438721\n",
      "Iteration:  250 Cost:  413.1925483111224\n",
      "Iteration:  260 Cost:  404.6353376933288\n",
      "Iteration:  270 Cost:  396.4609992797812\n",
      "Iteration:  280 Cost:  388.63944859557034\n",
      "Iteration:  290 Cost:  381.1440419587922\n",
      "Iteration:  300 Cost:  373.95107177404844\n",
      "Iteration:  310 Cost:  367.03935063388286\n",
      "Iteration:  320 Cost:  360.38986618189347\n",
      "Iteration:  330 Cost:  353.9854928188702\n",
      "Iteration:  340 Cost:  347.8107494183954\n",
      "Iteration:  350 Cost:  341.85159454742006\n",
      "Iteration:  360 Cost:  336.0952524622489\n",
      "Iteration:  370 Cost:  330.53006451488733\n",
      "Iteration:  380 Cost:  325.14536166243903\n",
      "Iteration:  390 Cost:  319.9313545985171\n",
      "Iteration:  400 Cost:  314.87903867587505\n",
      "Iteration:  410 Cost:  309.9801113046833\n",
      "Iteration:  420 Cost:  305.2268999218041\n",
      "Iteration:  430 Cost:  300.61229895617987\n",
      "Iteration:  440 Cost:  296.1297144816444\n",
      "Iteration:  450 Cost:  291.7730154645256\n",
      "Iteration:  460 Cost:  287.5364906897096\n",
      "Iteration:  470 Cost:  283.41481059342897\n",
      "Iteration:  480 Cost:  279.4029933501662\n",
      "Iteration:  490 Cost:  275.49637465968385\n",
      "Final estimates of b and q are:  0.28273653541217564 [-0.06065626  0.08912818  2.44540742  5.05189188 -0.06976804]\n"
     ]
    }
   ],
   "source": [
    "num_iterations = 500\n",
    "alpha = 0.5\n",
    "\n",
    "all_costs = []\n",
    "b,w = init_betas(X_new.shape[1])\n",
    "print(\"initial guess of b and w: \" , b ,w)\n",
    "\n",
    "for each_iter in range (num_iterations ):\n",
    "    y_det = sigmoid(b, w , X_new)\n",
    "    current_cost = cost_fn (Y, y_det)\n",
    "    prev_b = b\n",
    "    prev_w = w\n",
    "    b, w = beta_update (prev_b, prev_w, Y, y_det, X_new, alpha)\n",
    "    all_costs.append(current_cost)\n",
    "    if each_iter % 10 == 0:\n",
    "        print('Iteration: ', each_iter, 'Cost: ', current_cost)\n",
    "        each_iter += 1\n",
    "    \n",
    "print(\"Final estimates of b and q are: \", b,w)"
   ]
  },
  {
   "cell_type": "code",
   "execution_count": 257,
   "metadata": {},
   "outputs": [
    {
     "name": "stderr",
     "output_type": "stream",
     "text": [
      "/opt/anaconda3/lib/python3.7/site-packages/sklearn/linear_model/logistic.py:432: FutureWarning: Default solver will be changed to 'lbfgs' in 0.22. Specify a solver to silence this warning.\n",
      "  FutureWarning)\n"
     ]
    }
   ],
   "source": [
    "from sklearn.linear_model import LogisticRegression\n",
    "\n",
    "lreg = LogisticRegression()\n",
    "lmodel = lreg.fit(X_new, Y)"
   ]
  },
  {
   "cell_type": "code",
   "execution_count": 258,
   "metadata": {},
   "outputs": [
    {
     "data": {
      "text/plain": [
       "array([-3.56034604])"
      ]
     },
     "execution_count": 258,
     "metadata": {},
     "output_type": "execute_result"
    }
   ],
   "source": [
    "lmodel.intercept_"
   ]
  },
  {
   "cell_type": "code",
   "execution_count": 259,
   "metadata": {},
   "outputs": [
    {
     "data": {
      "text/plain": [
       "array([[-0.04637959,  0.03492599,  1.70449578, 11.1739654 , -0.05720112]])"
      ]
     },
     "execution_count": 259,
     "metadata": {},
     "output_type": "execute_result"
    }
   ],
   "source": [
    "lmodel.coef_"
   ]
  },
  {
   "cell_type": "code",
   "execution_count": 260,
   "metadata": {},
   "outputs": [],
   "source": [
    "import matplotlib.pyplot as plt\n",
    "import seaborn as sn\n",
    "%matplotlib inline"
   ]
  },
  {
   "cell_type": "code",
   "execution_count": 261,
   "metadata": {},
   "outputs": [
    {
     "data": {
      "text/plain": [
       "<matplotlib.collections.PathCollection at 0x1a33659dd0>"
      ]
     },
     "execution_count": 261,
     "metadata": {},
     "output_type": "execute_result"
    },
    {
     "data": {
      "image/png": "[encoded data removed]",
      "text/plain": [
       "<Figure size 432x288 with 1 Axes>"
      ]
     },
     "metadata": {
      "needs_background": "light"
     },
     "output_type": "display_data"
    }
   ],
   "source": [
    "plt.scatter( range(num_iterations), all_costs)\n",
    "#Plot the cost function for different alpha (learning parameters) values"
   ]
  },
  {
   "cell_type": "code",
   "execution_count": 262,
   "metadata": {},
   "outputs": [
    {
     "name": "stdout",
     "output_type": "stream",
     "text": [
      "initial guess of b and w:  0.0931268420777771 [0.11222841 0.02146165 0.48349079 0.8536264  0.7379049 ]\n",
      "Iteration:  0  & Cost:  1773.4487054891629\n",
      "Iteration:  10  & Cost:  1757.3427022283013\n",
      "Iteration:  20  & Cost:  1741.5388038878552\n",
      "Iteration:  30  & Cost:  1726.0283969633829\n",
      "Iteration:  40  & Cost:  1710.8033511080203\n",
      "Iteration:  50  & Cost:  1695.8559769514352\n",
      "Iteration:  60  & Cost:  1681.1789871428314\n",
      "Iteration:  70  & Cost:  1666.7654606749966\n",
      "Iteration:  80  & Cost:  1652.6088104341657\n",
      "Iteration:  90  & Cost:  1638.702753844925\n",
      "Iteration:  100  & Cost:  1625.0412864307114\n",
      "Iteration:  110  & Cost:  1611.6186580823853\n",
      "Iteration:  120  & Cost:  1598.4293518146521\n",
      "Iteration:  130  & Cost:  1585.4680647875994\n",
      "Iteration:  140  & Cost:  1572.7296913760047\n",
      "Iteration:  150  & Cost:  1560.2093080788554\n",
      "Iteration:  160  & Cost:  1547.9021600747587\n",
      "Iteration:  170  & Cost:  1535.803649243368\n",
      "Iteration:  180  & Cost:  1523.909323488464\n",
      "Iteration:  190  & Cost:  1512.2148672134815\n",
      "Iteration:  200  & Cost:  1500.7160928151807\n",
      "Iteration:  210  & Cost:  1489.4089330751435\n",
      "Iteration:  220  & Cost:  1478.2894343418684\n",
      "Iteration:  230  & Cost:  1467.3537504083113\n",
      "Iteration:  240  & Cost:  1456.5981370006577\n",
      "Iteration:  250  & Cost:  1446.0189468040471\n",
      "Iteration:  260  & Cost:  1435.6126249598985\n",
      "Iteration:  270  & Cost:  1425.3757049774472\n",
      "Iteration:  280  & Cost:  1415.3048050091913\n",
      "Iteration:  290  & Cost:  1405.3966244462338\n",
      "Iteration:  300  & Cost:  1395.647940795061\n",
      "Iteration:  310  & Cost:  1386.0556068021845\n",
      "Iteration:  320  & Cost:  1376.6165477973811\n",
      "Iteration:  330  & Cost:  1367.3277592300362\n",
      "Iteration:  340  & Cost:  1358.1863043763994\n",
      "Iteration:  350  & Cost:  1349.1893121984488\n",
      "Iteration:  360  & Cost:  1340.3339753375803\n",
      "Iteration:  370  & Cost:  1331.61754822853\n",
      "Iteration:  380  & Cost:  1323.0373453208565\n",
      "Iteration:  390  & Cost:  1314.5907393969562\n",
      "Iteration:  400  & Cost:  1306.2751599770356\n",
      "Iteration:  410  & Cost:  1298.0880918026999\n",
      "Iteration:  420  & Cost:  1290.0270733919072\n",
      "Iteration:  430  & Cost:  1282.0896956589504\n",
      "Iteration:  440  & Cost:  1274.2736005939532\n",
      "Iteration:  450  & Cost:  1266.576479997033\n",
      "Iteration:  460  & Cost:  1258.996074262889\n",
      "Iteration:  470  & Cost:  1251.5301712120872\n",
      "Iteration:  480  & Cost:  1244.1766049657324\n",
      "Iteration:  490  & Cost:  1236.9332548605958\n",
      "Iteration:  500  & Cost:  1229.7980444021016\n",
      "Iteration:  510  & Cost:  1222.7689402528108\n",
      "Iteration:  520  & Cost:  1215.8439512543075\n",
      "Iteration:  530  & Cost:  1209.0211274805688\n",
      "Iteration:  540  & Cost:  1202.2985593210701\n",
      "Iteration:  550  & Cost:  1195.6743765920342\n",
      "Iteration:  560  & Cost:  1189.1467476743321\n",
      "Iteration:  570  & Cost:  1182.7138786766832\n",
      "Iteration:  580  & Cost:  1176.374012622858\n",
      "Iteration:  590  & Cost:  1170.1254286617002\n",
      "Iteration:  600  & Cost:  1163.9664412988393\n",
      "Iteration:  610  & Cost:  1157.8953996490327\n",
      "Iteration:  620  & Cost:  1151.9106867081282\n",
      "Iteration:  630  & Cost:  1146.0107186437149\n",
      "Iteration:  640  & Cost:  1140.1939441035481\n",
      "Iteration:  650  & Cost:  1134.4588435408978\n",
      "Iteration:  660  & Cost:  1128.803928556017\n",
      "Iteration:  670  & Cost:  1123.2277412529663\n",
      "Iteration:  680  & Cost:  1117.7288536110475\n",
      "Iteration:  690  & Cost:  1112.3058668701944\n",
      "Iteration:  700  & Cost:  1106.9574109296361\n",
      "Iteration:  710  & Cost:  1101.682143759244\n",
      "Iteration:  720  & Cost:  1096.4787508229788\n",
      "Iteration:  730  & Cost:  1091.3459445138947\n",
      "Iteration:  740  & Cost:  1086.2824636001951\n",
      "Iteration:  750  & Cost:  1081.2870726818599\n",
      "Iteration:  760  & Cost:  1076.3585616574114\n",
      "Iteration:  770  & Cost:  1071.4957452003937\n",
      "Iteration:  780  & Cost:  1066.6974622451824\n",
      "Iteration:  790  & Cost:  1061.9625754817785\n",
      "Iteration:  800  & Cost:  1057.2899708592429\n",
      "Iteration:  810  & Cost:  1052.6785570974737\n",
      "Iteration:  820  & Cost:  1048.127265207048\n",
      "Iteration:  830  & Cost:  1043.63504801686\n",
      "Iteration:  840  & Cost:  1039.200879709341\n",
      "Iteration:  850  & Cost:  1034.8237553630147\n",
      "Iteration:  860  & Cost:  1030.5026905022346\n",
      "Iteration:  870  & Cost:  1026.2367206538902\n",
      "Iteration:  880  & Cost:  1022.024900910954\n",
      "Iteration:  890  & Cost:  1017.8663055027176\n",
      "Iteration:  900  & Cost:  1013.7600273716039\n",
      "Iteration:  910  & Cost:  1009.7051777564494\n",
      "Iteration:  920  & Cost:  1005.7008857821766\n",
      "Iteration:  930  & Cost:  1001.7462980557821\n",
      "Iteration:  940  & Cost:  997.8405782685954\n",
      "Iteration:  950  & Cost:  993.9829068047716\n",
      "Iteration:  960  & Cost:  990.1724803559961\n",
      "Iteration:  970  & Cost:  986.4085115424022\n",
      "Iteration:  980  & Cost:  982.6902285397204\n",
      "Iteration:  990  & Cost:  979.0168747126735\n",
      "Final estimates of b and w are:  0.5963263201163883 [0.01481837 0.02489432 1.23279634 1.85054525 0.26904338]\n"
     ]
    }
   ],
   "source": [
    "# For alpha =0.01\n",
    "num_iterations = 1000\n",
    "alpha = 0.01\n",
    "\n",
    "all_costs = []\n",
    "b,w = init_betas(X_new.shape[1])\n",
    "print(\"initial guess of b and w: \" , b ,w)\n",
    "\n",
    "for each_iter in range (num_iterations ):\n",
    "    y_hat = sigmoid(b, w , X_new)\n",
    "    current_cost = cost_fn (Y, y_hat)\n",
    "    prev_b = b\n",
    "    prev_w = w\n",
    "    b, w = beta_update (prev_b, prev_w, Y, y_hat, X_new, alpha)\n",
    "    all_costs.append(current_cost)\n",
    "    if each_iter % 10 == 0:\n",
    "        print('Iteration: ', each_iter, ' & Cost: ', current_cost)\n",
    "        each_iter += 1\n",
    "    \n",
    "print(\"Final estimates of b and w are: \", b,w)"
   ]
  },
  {
   "cell_type": "code",
   "execution_count": 263,
   "metadata": {},
   "outputs": [
    {
     "name": "stderr",
     "output_type": "stream",
     "text": [
      "/opt/anaconda3/lib/python3.7/site-packages/sklearn/linear_model/logistic.py:432: FutureWarning: Default solver will be changed to 'lbfgs' in 0.22. Specify a solver to silence this warning.\n",
      "  FutureWarning)\n"
     ]
    }
   ],
   "source": [
    "linReg = LogisticRegression() #Use sklearn logistic regression API and compare the estimation of beta values.\n",
    "lmodel = linReg.fit(X_new, Y)"
   ]
  },
  {
   "cell_type": "code",
   "execution_count": 264,
   "metadata": {},
   "outputs": [
    {
     "data": {
      "text/plain": [
       "array([-3.56034604])"
      ]
     },
     "execution_count": 264,
     "metadata": {},
     "output_type": "execute_result"
    }
   ],
   "source": [
    "lmodel.intercept_"
   ]
  },
  {
   "cell_type": "code",
   "execution_count": 265,
   "metadata": {},
   "outputs": [
    {
     "data": {
      "text/plain": [
       "array([[-0.04637959,  0.03492599,  1.70449578, 11.1739654 , -0.05720112]])"
      ]
     },
     "execution_count": 265,
     "metadata": {},
     "output_type": "execute_result"
    }
   ],
   "source": [
    "lmodel.coef_"
   ]
  },
  {
   "cell_type": "code",
   "execution_count": 266,
   "metadata": {},
   "outputs": [
    {
     "data": {
      "text/plain": [
       "<matplotlib.collections.PathCollection at 0x1a2cac1550>"
      ]
     },
     "execution_count": 266,
     "metadata": {},
     "output_type": "execute_result"
    },
    {
     "data": {
      "image/png": "[encoded data removed]",
      "text/plain": [
       "<Figure size 432x288 with 1 Axes>"
      ]
     },
     "metadata": {
      "needs_background": "light"
     },
     "output_type": "display_data"
    }
   ],
   "source": [
    "plt.scatter( range(num_iterations), all_costs)"
   ]
  },
  {
   "cell_type": "code",
   "execution_count": 281,
   "metadata": {},
   "outputs": [
    {
     "data": {
      "text/plain": [
       "<matplotlib.axes._subplots.AxesSubplot at 0x1a3077c8d0>"
      ]
     },
     "execution_count": 281,
     "metadata": {},
     "output_type": "execute_result"
    },
    {
     "data": {
      "image/png": "[encoded data removed]",
      "text/plain": [
       "<Figure size 720x432 with 1 Axes>"
      ]
     },
     "metadata": {
      "needs_background": "light"
     },
     "output_type": "display_data"
    }
   ],
   "source": [
    "df = (df[['Clothing ID','Age','Rating','Recommended IND','Positive Feedback Count']])\n",
    "fig = plt.figure(figsize = (10,6))\n",
    "sns.barplot(x = 'Recommended IND', y = 'Positive Feedback Count', data = df)"
   ]
  },
  {
   "cell_type": "code",
   "execution_count": 268,
   "metadata": {},
   "outputs": [
    {
     "data": {
      "text/plain": [
       "<matplotlib.axes._subplots.AxesSubplot at 0x1a2ef08310>"
      ]
     },
     "execution_count": 268,
     "metadata": {},
     "output_type": "execute_result"
    },
    {
     "data": {
      "image/png": "[encoded data removed]",
      "text/plain": [
       "<Figure size 432x288 with 1 Axes>"
      ]
     },
     "metadata": {
      "needs_background": "light"
     },
     "output_type": "display_data"
    }
   ],
   "source": [
    "sns.countplot(df['Recommended IND'])"
   ]
  },
  {
   "cell_type": "code",
   "execution_count": 269,
   "metadata": {},
   "outputs": [],
   "source": [
    "#Now we seperate the dataset as response variable and feature variabes\n",
    "X = df.drop('Recommended IND', axis = 1)\n",
    "Y = df['Recommended IND']"
   ]
  },
  {
   "cell_type": "code",
   "execution_count": 270,
   "metadata": {},
   "outputs": [],
   "source": [
    "#Train and Test splitting of the data \n",
    "X_train, X_test, Y_train, Y_test = train_test_split(X, Y, test_size = 0.2, random_state = 42)"
   ]
  },
  {
   "cell_type": "code",
   "execution_count": 271,
   "metadata": {},
   "outputs": [],
   "source": [
    "#Applying Standard scaling to get  an optimized result\n",
    "sc = StandardScaler()"
   ]
  },
  {
   "cell_type": "code",
   "execution_count": 272,
   "metadata": {},
   "outputs": [],
   "source": [
    "X_train = sc.fit_transform(X_train)\n",
    "X_test = sc.fit_transform(X_test)\n",
    "#Our training and testing data is ready now to perform machine learning algorithm"
   ]
  },
  {
   "cell_type": "markdown",
   "metadata": {},
   "source": [
    "### RANDOM FOREST CLASSIFIER\n"
   ]
  },
  {
   "cell_type": "code",
   "execution_count": 273,
   "metadata": {},
   "outputs": [],
   "source": [
    "rfc = RandomForestClassifier(n_estimators=200)\n",
    "rfc.fit(X_train, Y_train)\n",
    "pred_rfc = rfc.predict(X_test)"
   ]
  },
  {
   "cell_type": "code",
   "execution_count": 274,
   "metadata": {},
   "outputs": [
    {
     "name": "stdout",
     "output_type": "stream",
     "text": [
      "              precision    recall  f1-score   support\n",
      "\n",
      "           0       0.78      0.80      0.79       851\n",
      "           1       0.96      0.95      0.95      3847\n",
      "\n",
      "    accuracy                           0.92      4698\n",
      "   macro avg       0.87      0.87      0.87      4698\n",
      "weighted avg       0.92      0.92      0.92      4698\n",
      "\n"
     ]
    }
   ],
   "source": [
    "#This is how our model is performed now\n",
    "print(classification_report(Y_test, pred_rfc))\n"
   ]
  },
  {
   "cell_type": "markdown",
   "metadata": {},
   "source": [
    "#### The accuracy of Random Forest Classifier model is 92%\n"
   ]
  },
  {
   "cell_type": "code",
   "execution_count": 275,
   "metadata": {},
   "outputs": [
    {
     "name": "stdout",
     "output_type": "stream",
     "text": [
      "[[ 680  171]\n",
      " [ 191 3656]]\n"
     ]
    }
   ],
   "source": [
    "#Confusion matrix for random forest classification\n",
    "print(confusion_matrix(Y_test, pred_rfc))"
   ]
  },
  {
   "cell_type": "markdown",
   "metadata": {},
   "source": [
    "### STOCHASTIC GRADIENT DESCENT CLASSIFIER"
   ]
  },
  {
   "cell_type": "code",
   "execution_count": 276,
   "metadata": {},
   "outputs": [],
   "source": [
    "sgd = SGDClassifier(penalty=None)\n",
    "sgd.fit(X_train, Y_train)\n",
    "predict_sgd = sgd.predict(X_test)"
   ]
  },
  {
   "cell_type": "code",
   "execution_count": 277,
   "metadata": {},
   "outputs": [
    {
     "name": "stdout",
     "output_type": "stream",
     "text": [
      "              precision    recall  f1-score   support\n",
      "\n",
      "           0       0.74      0.95      0.83       851\n",
      "           1       0.99      0.93      0.96      3847\n",
      "\n",
      "    accuracy                           0.93      4698\n",
      "   macro avg       0.87      0.94      0.90      4698\n",
      "weighted avg       0.94      0.93      0.93      4698\n",
      "\n"
     ]
    }
   ],
   "source": [
    "print(classification_report(Y_test, predict_sgd))"
   ]
  },
  {
   "cell_type": "markdown",
   "metadata": {},
   "source": [
    "#### The accuracy of Stochastic Gradient Descent Classifier model is 93%"
   ]
  },
  {
   "cell_type": "markdown",
   "metadata": {},
   "source": [
    "### SUPPORT VECTOR CLASSIFIER"
   ]
  },
  {
   "cell_type": "code",
   "execution_count": 278,
   "metadata": {},
   "outputs": [],
   "source": [
    "svc = SVC()\n",
    "svc.fit(X_train, Y_train)\n",
    "predict_svc = svc.predict(X_test)"
   ]
  },
  {
   "cell_type": "code",
   "execution_count": 279,
   "metadata": {},
   "outputs": [
    {
     "name": "stdout",
     "output_type": "stream",
     "text": [
      "              precision    recall  f1-score   support\n",
      "\n",
      "           0       0.74      0.95      0.83       851\n",
      "           1       0.99      0.93      0.96      3847\n",
      "\n",
      "    accuracy                           0.93      4698\n",
      "   macro avg       0.87      0.94      0.89      4698\n",
      "weighted avg       0.94      0.93      0.93      4698\n",
      "\n"
     ]
    }
   ],
   "source": [
    "print(classification_report(Y_test, predict_svc))"
   ]
  },
  {
   "cell_type": "markdown",
   "metadata": {},
   "source": [
    "#### The accuracy of Support Vector Classifier model is 93%"
   ]
  },
  {
   "cell_type": "markdown",
   "metadata": {},
   "source": [
    "### CROSS VALIDATION SCORE"
   ]
  },
  {
   "cell_type": "code",
   "execution_count": 280,
   "metadata": {},
   "outputs": [
    {
     "data": {
      "text/plain": [
       "0.928837531828262"
      ]
     },
     "execution_count": 280,
     "metadata": {},
     "output_type": "execute_result"
    }
   ],
   "source": [
    "#Now lets try to do some evaluation for random forest model using cross validation score.\n",
    "rfc_eval = cross_val_score(estimator = rfc, X = X_train, y = Y_train, cv = 10)\n",
    "rfc_eval.mean()"
   ]
  },
  {
   "cell_type": "markdown",
   "metadata": {},
   "source": [
    "#### The accuracy of Random Forest Classifier model has increased from 92% to 93% (slight increase) using cross validation score\n"
   ]
  },
  {
   "cell_type": "code",
   "execution_count": null,
   "metadata": {},
   "outputs": [],
   "source": []
  }
 ],
 "metadata": {
  "kernelspec": {
   "display_name": "Python 3",
   "language": "python",
   "name": "python3"
  },
  "language_info": {
   "codemirror_mode": {
    "name": "ipython",
    "version": 3
   },
   "file_extension": ".py",
   "mimetype": "text/x-python",
   "name": "python",
   "nbconvert_exporter": "python",
   "pygments_lexer": "ipython3",
   "version": "3.8.3"
  }
 },
 "nbformat": 4,
 "nbformat_minor": 2
}
